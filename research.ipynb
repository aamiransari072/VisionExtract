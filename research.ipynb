{
 "cells": [
  {
   "cell_type": "code",
   "execution_count": 4,
   "metadata": {},
   "outputs": [],
   "source": [
    "import numpy as np\n",
    "import pandas as pd\n",
    "from pathlib import Path\n",
    "import pytesseract\n",
    "import cv2\n",
    "import os"
   ]
  },
  {
   "cell_type": "code",
   "execution_count": 3,
   "metadata": {},
   "outputs": [],
   "source": [
    "!cd Data/"
   ]
  },
  {
   "cell_type": "code",
   "execution_count": 6,
   "metadata": {},
   "outputs": [],
   "source": [
    "img_path = r\"D:\\Projects\\Assignmenr\\Data\\docs-sm\\invoice\\00920638.jpg\""
   ]
  },
  {
   "cell_type": "code",
   "execution_count": 8,
   "metadata": {},
   "outputs": [
    {
     "name": "stdout",
     "output_type": "stream",
     "text": [
      "Extracted Text:\n",
      " BORRISTON\n",
      "\n",
      "LABORATORIES, INC.\n",
      "\n",
      "Boriston Laboratories, ne:\n",
      "$050 Beech Place\n",
      "Ternple Hills, Maryland 20748\n",
      "\n",
      "‘Telephone: 301-099:3536\n",
      "843\n",
      "\n",
      "Telex 2\n",
      "\n",
      "June 28, 1982\n",
      "\n",
      "Loriitard Inc.\n",
      "\n",
      "eae INVOICE # ee\n",
      "\n",
      "420 English Street of z\n",
      "Greensboro, N.C. 27405 J-A- Fa\n",
      "fap 9570\n",
      "Attention: Or. Harry Ntnneneyer “\n",
      "feet. +\n",
      "\n",
      "REFERENCE: Purchase on 1saBY\n",
      "BL REF 223-201-144\n",
      "INVOICE #: 1446-1\n",
      "\n",
      "DESCRIPTION 290)\n",
      "\n",
      "INDUCTION OF HEPATIC MICROSOMAL\n",
      "ENZYMES WITH COMPOUNDS B~100,\n",
      "\n",
      "$10,000.00,\n",
      "\n",
      "B-101, and B-102\n",
      "\n",
      "REMITTANCE ADRESS:\n",
      "Borriston Laboratories, Inc.\n",
      "DYNAMAC BUILDING\n",
      "\n",
      "11140 Rockville Pike\n",
      "Rockville, Md. 20748\n",
      "\n",
      "Attn: B. Belford\n",
      "Accounting\n",
      "\n",
      "ses © INVOICE te\n",
      "\n",
      "‘A Subsidiary of Dynamac Intemational, Inc.\n",
      "\n",
      "e£90z600\n",
      "\n"
     ]
    }
   ],
   "source": [
    "image = cv2.imread(img_path)\n",
    "\n",
    "# Convert to grayscale\n",
    "gray = cv2.cvtColor(image, cv2.COLOR_BGR2GRAY)\n",
    "\n",
    "# Apply thresholding for better OCR accuracy\n",
    "gray = cv2.threshold(gray, 0, 255, cv2.THRESH_BINARY | cv2.THRESH_OTSU)[1]\n",
    "\n",
    "# Perform OCR using Tesseract\n",
    "text = pytesseract.image_to_string(gray,lang='eng')\n",
    "\n",
    "print(\"Extracted Text:\\n\", text)"
   ]
  },
  {
   "cell_type": "code",
   "execution_count": 9,
   "metadata": {},
   "outputs": [],
   "source": [
    "import re\n",
    "\n",
    "def clean_text(text):\n",
    "    \"\"\"Remove extra spaces, newlines, and special characters.\"\"\"\n",
    "    text = text.replace(\"\\n\", \" \")  # Remove newlines\n",
    "    text = re.sub(r'\\s+', ' ', text).strip()  # Remove extra spaces\n",
    "    return text"
   ]
  },
  {
   "cell_type": "code",
   "execution_count": 10,
   "metadata": {},
   "outputs": [],
   "source": [
    "cleaned_text = clean_text(text)"
   ]
  },
  {
   "cell_type": "code",
   "execution_count": 11,
   "metadata": {},
   "outputs": [
    {
     "data": {
      "text/plain": [
       "'BORRISTON LABORATORIES, INC. Boriston Laboratories, ne: $050 Beech Place Ternple Hills, Maryland 20748 ‘Telephone: 301-099:3536 843 Telex 2 June 28, 1982 Loriitard Inc. eae INVOICE # ee 420 English Street of z Greensboro, N.C. 27405 J-A- Fa fap 9570 Attention: Or. Harry Ntnneneyer “ feet. + REFERENCE: Purchase on 1saBY BL REF 223-201-144 INVOICE #: 1446-1 DESCRIPTION 290) INDUCTION OF HEPATIC MICROSOMAL ENZYMES WITH COMPOUNDS B~100, $10,000.00, B-101, and B-102 REMITTANCE ADRESS: Borriston Laboratories, Inc. DYNAMAC BUILDING 11140 Rockville Pike Rockville, Md. 20748 Attn: B. Belford Accounting ses © INVOICE te ‘A Subsidiary of Dynamac Intemational, Inc. e£90z600'"
      ]
     },
     "execution_count": 11,
     "metadata": {},
     "output_type": "execute_result"
    }
   ],
   "source": [
    "cleaned_text"
   ]
  },
  {
   "cell_type": "code",
   "execution_count": 14,
   "metadata": {},
   "outputs": [
    {
     "name": "stderr",
     "output_type": "stream",
     "text": [
      "Some weights of the model checkpoint at dslim/bert-base-NER were not used when initializing BertForTokenClassification: ['bert.pooler.dense.bias', 'bert.pooler.dense.weight']\n",
      "- This IS expected if you are initializing BertForTokenClassification from the checkpoint of a model trained on another task or with another architecture (e.g. initializing a BertForSequenceClassification model from a BertForPreTraining model).\n",
      "- This IS NOT expected if you are initializing BertForTokenClassification from the checkpoint of a model that you expect to be exactly identical (initializing a BertForSequenceClassification model from a BertForSequenceClassification model).\n",
      "Device set to use cpu\n"
     ]
    },
    {
     "name": "stdout",
     "output_type": "stream",
     "text": [
      "IN\n",
      " \n",
      "B-LOC\n",
      "\n",
      "\n",
      "Boris\n",
      " \n",
      "B-ORG\n",
      "\n",
      "\n",
      "##ton\n",
      " \n",
      "I-ORG\n",
      "\n",
      "\n",
      "Laboratories\n",
      " \n",
      "I-ORG\n",
      "\n",
      "\n",
      "Bee\n",
      " \n",
      "B-LOC\n",
      "\n",
      "\n",
      "##ch\n",
      " \n",
      "I-LOC\n",
      "\n",
      "\n",
      "Place\n",
      " \n",
      "I-LOC\n",
      "\n",
      "\n",
      "Te\n",
      " \n",
      "I-LOC\n",
      "\n",
      "\n",
      "##rn\n",
      " \n",
      "I-ORG\n",
      "\n",
      "\n",
      "##ple\n",
      " \n",
      "I-LOC\n",
      "\n",
      "\n",
      "Hills\n",
      " \n",
      "I-LOC\n",
      "\n",
      "\n",
      "Maryland\n",
      " \n",
      "B-LOC\n",
      "\n",
      "\n",
      "Tel\n",
      " \n",
      "B-ORG\n",
      "\n",
      "\n",
      "Lori\n",
      " \n",
      "B-ORG\n",
      "\n",
      "\n",
      "##ita\n",
      " \n",
      "I-ORG\n",
      "\n",
      "\n",
      "##rd\n",
      " \n",
      "I-ORG\n",
      "\n",
      "\n",
      "Inc\n",
      " \n",
      "I-ORG\n",
      "\n",
      "\n",
      "English\n",
      " \n",
      "B-LOC\n",
      "\n",
      "\n",
      "Street\n",
      " \n",
      "I-LOC\n",
      "\n",
      "\n",
      "Greens\n",
      " \n",
      "B-LOC\n",
      "\n",
      "\n",
      "##boro\n",
      " \n",
      "I-LOC\n",
      "\n",
      "\n",
      "N\n",
      " \n",
      "B-LOC\n",
      "\n",
      "\n",
      ".\n",
      " \n",
      "I-LOC\n",
      "\n",
      "\n",
      "C\n",
      " \n",
      "I-LOC\n",
      "\n",
      "\n",
      "A\n",
      " \n",
      "I-ORG\n",
      "\n",
      "\n",
      "Or\n",
      " \n",
      "B-PER\n",
      "\n",
      "\n",
      "Harry\n",
      " \n",
      "B-PER\n",
      "\n",
      "\n",
      "N\n",
      " \n",
      "I-PER\n",
      "\n",
      "\n",
      "Bo\n",
      " \n",
      "B-ORG\n",
      "\n",
      "\n",
      "##rri\n",
      " \n",
      "I-ORG\n",
      "\n",
      "\n",
      "##ston\n",
      " \n",
      "I-ORG\n",
      "\n",
      "\n",
      "Laboratories\n",
      " \n",
      "I-ORG\n",
      "\n",
      "\n",
      ",\n",
      " \n",
      "I-ORG\n",
      "\n",
      "\n",
      "Inc\n",
      " \n",
      "I-ORG\n",
      "\n",
      "\n",
      "D\n",
      " \n",
      "B-ORG\n",
      "\n",
      "\n",
      "##Y\n",
      " \n",
      "I-ORG\n",
      "\n",
      "\n",
      "##NA\n",
      " \n",
      "I-ORG\n",
      "\n",
      "\n",
      "##MA\n",
      " \n",
      "I-ORG\n",
      "\n",
      "\n",
      "Rock\n",
      " \n",
      "B-LOC\n",
      "\n",
      "\n",
      "##ville\n",
      " \n",
      "I-LOC\n",
      "\n",
      "\n",
      "Pike\n",
      " \n",
      "I-LOC\n",
      "\n",
      "\n",
      "Rock\n",
      " \n",
      "I-LOC\n",
      "\n",
      "\n",
      "##ville\n",
      " \n",
      "I-LOC\n",
      "\n",
      "\n",
      "M\n",
      " \n",
      "B-LOC\n",
      "\n",
      "\n",
      "B\n",
      " \n",
      "B-ORG\n",
      "\n",
      "\n",
      "Bel\n",
      " \n",
      "I-ORG\n",
      "\n",
      "\n",
      "##ford\n",
      " \n",
      "I-ORG\n",
      "\n",
      "\n",
      "Accounting\n",
      " \n",
      "I-ORG\n",
      "\n",
      "\n",
      "D\n",
      " \n",
      "B-ORG\n",
      "\n",
      "\n",
      "##yna\n",
      " \n",
      "I-ORG\n",
      "\n",
      "\n",
      "##ma\n",
      " \n",
      "I-ORG\n",
      "\n",
      "\n",
      "##c\n",
      " \n",
      "I-ORG\n",
      "\n",
      "\n",
      "In\n",
      " \n",
      "I-ORG\n",
      "\n",
      "\n",
      "##tem\n",
      " \n",
      "I-ORG\n",
      "\n",
      "\n",
      "##ational\n",
      " \n",
      "I-ORG\n",
      "\n",
      "\n",
      ",\n",
      " \n",
      "I-ORG\n",
      "\n",
      "\n",
      "Inc\n",
      " \n",
      "I-ORG\n",
      "\n",
      "\n",
      "{}\n"
     ]
    }
   ],
   "source": [
    "from transformers import pipeline\n",
    "\n",
    "ner_pipeline = pipeline(\"ner\", model=\"dslim/bert-base-NER\")\n",
    "\n",
    "def extract_entities(text):\n",
    "    \"\"\"Extracts named entities using a fine-tuned BERT model\"\"\"\n",
    "    entities = ner_pipeline(text)\n",
    "    \n",
    "    extracted_data = {}\n",
    "    for ent in entities:\n",
    "        word, label = ent['word'], ent['entity']\n",
    "        print(word)\n",
    "        print(\" \")\n",
    "        print(label)\n",
    "        print('\\n')\n",
    "        \n",
    "        # if \"MISC\" in label and \"INV\" in word:  # Custom Rule for Invoice Number\n",
    "        #     extracted_data[\"invoice_number\"] = word\n",
    "        # elif \"DATE\" in label:\n",
    "        #     extracted_data[\"date\"] = word\n",
    "        # elif \"MONEY\" in label:\n",
    "        #     extracted_data[\"amount\"] = word\n",
    "        # elif \"ORG\" in label:\n",
    "        #     extracted_data[\"vendor\"] = word\n",
    "    \n",
    "    return extracted_data\n",
    "\n",
    "# Extract Data\n",
    "invoice_data = extract_entities(cleaned_text)\n",
    "print(invoice_data)\n"
   ]
  },
  {
   "cell_type": "code",
   "execution_count": 13,
   "metadata": {},
   "outputs": [
    {
     "data": {
      "text/plain": [
       "{'vendor': 'Inc'}"
      ]
     },
     "execution_count": 13,
     "metadata": {},
     "output_type": "execute_result"
    }
   ],
   "source": [
    "invoice_data"
   ]
  },
  {
   "cell_type": "code",
   "execution_count": 15,
   "metadata": {},
   "outputs": [
    {
     "name": "stdout",
     "output_type": "stream",
     "text": [
      "[]\n"
     ]
    }
   ],
   "source": [
    "import pandas as pd\n",
    "\n",
    "def extract_table(text):\n",
    "    # Extract rows matching pattern (Item, Quantity, Price)\n",
    "    table_pattern = re.findall(r'(\\w+)\\s+(\\d+)\\s+\\$?([\\d,]+\\.?\\d{0,2})', text)\n",
    "\n",
    "    # Convert to Pandas DataFrame\n",
    "    df = pd.DataFrame(table_pattern, columns=[\"Item\", \"Quantity\", \"Price\"])\n",
    "    \n",
    "    return df.to_dict(orient='records')\n",
    "\n",
    "invoice_table = extract_table(cleaned_text)\n",
    "print(invoice_table)"
   ]
  },
  {
   "cell_type": "code",
   "execution_count": 16,
   "metadata": {},
   "outputs": [],
   "source": [
    "class DataTransformation:\n",
    "    def __init__(self):\n",
    "        pass\n",
    "\n",
    "    def get_images_labels(self,images,label):\n",
    "        arr = []\n",
    "        labels = []\n",
    "        for i in images:\n",
    "            print(\"Looping through all images\")\n",
    "            img = cv2.imread(os.path.join(i))\n",
    "            img = cv2.cvtColor(img, cv2.COLOR_BGR2GRAY)\n",
    "            img = cv2.resize(img ,(120,120))\n",
    "            img1 = img[0:30,0:120]/255\n",
    "            img2 = img[30:90, 0:60]/255\n",
    "            img3 = img[30:90, 60:120]/255\n",
    "            img4 = img[90:120, 0:120]/255\n",
    "\n",
    "            img = np.array(\n",
    "                [cv2.resize(img1,(48,48)),\n",
    "                 cv2.resize(img2,(48,48)),\n",
    "                 cv2.resize(img3,(48,48)),\n",
    "                 cv2.resize(img4,(48,48))]\n",
    "            )\n",
    "\n",
    "            img_mean = np.mean(img)\n",
    "            img = img - img_mean\n",
    "            img = img /np.std(img)\n",
    "            arr.append(img)\n",
    "            labels.append(label)\n",
    "        return [arr,labels]\n",
    "    \n",
    "\n",
    "    \n",
    "\n",
    "\n",
    "\n",
    "\n"
   ]
  },
  {
   "cell_type": "code",
   "execution_count": 17,
   "metadata": {},
   "outputs": [],
   "source": [
    "transformer = DataTransformation()"
   ]
  },
  {
   "cell_type": "code",
   "execution_count": 18,
   "metadata": {},
   "outputs": [],
   "source": [
    "from pathlib import Path\n",
    "\n",
    "data_path = Path(os.path.join(r\"D:\\Projects\\Assignmenr\\artifacts\\Data\\docs-sm\"))"
   ]
  },
  {
   "cell_type": "code",
   "execution_count": 19,
   "metadata": {},
   "outputs": [
    {
     "data": {
      "text/plain": [
       "WindowsPath('D:/Projects/Assignmenr/artifacts/Data/docs-sm')"
      ]
     },
     "execution_count": 19,
     "metadata": {},
     "output_type": "execute_result"
    }
   ],
   "source": [
    "data_path"
   ]
  },
  {
   "cell_type": "code",
   "execution_count": 27,
   "metadata": {},
   "outputs": [
    {
     "name": "stdout",
     "output_type": "stream",
     "text": [
      "Looping through all images\n",
      "Looping through all images\n",
      "Looping through all images\n",
      "Looping through all images\n",
      "Looping through all images\n",
      "Looping through all images\n",
      "Looping through all images\n",
      "Looping through all images\n",
      "Looping through all images\n",
      "Looping through all images\n",
      "Looping through all images\n",
      "Looping through all images\n",
      "Looping through all images\n",
      "Looping through all images\n",
      "Looping through all images\n",
      "Looping through all images\n",
      "Looping through all images\n",
      "Looping through all images\n",
      "Looping through all images\n",
      "Looping through all images\n",
      "Looping through all images\n",
      "Looping through all images\n",
      "Looping through all images\n",
      "Looping through all images\n",
      "Looping through all images\n",
      "Looping through all images\n",
      "Looping through all images\n",
      "Looping through all images\n",
      "Looping through all images\n",
      "Looping through all images\n",
      "Looping through all images\n",
      "Looping through all images\n",
      "Looping through all images\n",
      "Looping through all images\n",
      "Looping through all images\n",
      "Looping through all images\n",
      "Looping through all images\n",
      "Looping through all images\n",
      "Looping through all images\n",
      "Looping through all images\n",
      "Looping through all images\n",
      "Looping through all images\n",
      "Looping through all images\n",
      "Looping through all images\n",
      "Looping through all images\n",
      "Looping through all images\n",
      "Looping through all images\n",
      "Looping through all images\n",
      "Looping through all images\n",
      "Looping through all images\n",
      "Looping through all images\n",
      "Looping through all images\n",
      "Looping through all images\n",
      "Looping through all images\n",
      "Looping through all images\n",
      "Looping through all images\n",
      "Looping through all images\n",
      "Looping through all images\n",
      "Looping through all images\n",
      "Looping through all images\n",
      "Looping through all images\n",
      "Looping through all images\n",
      "Looping through all images\n",
      "Looping through all images\n",
      "Looping through all images\n",
      "Looping through all images\n",
      "Looping through all images\n",
      "Looping through all images\n",
      "Looping through all images\n",
      "Looping through all images\n",
      "Looping through all images\n",
      "Looping through all images\n",
      "Looping through all images\n",
      "Looping through all images\n",
      "Looping through all images\n",
      "Looping through all images\n",
      "Looping through all images\n",
      "Looping through all images\n",
      "Looping through all images\n",
      "Looping through all images\n",
      "Looping through all images\n",
      "Looping through all images\n",
      "Looping through all images\n",
      "Looping through all images\n",
      "Looping through all images\n",
      "Looping through all images\n",
      "Looping through all images\n",
      "Looping through all images\n",
      "Looping through all images\n",
      "Looping through all images\n",
      "Looping through all images\n",
      "Looping through all images\n",
      "Looping through all images\n",
      "Looping through all images\n",
      "Looping through all images\n",
      "Looping through all images\n",
      "Looping through all images\n",
      "Looping through all images\n",
      "Looping through all images\n",
      "Looping through all images\n",
      "Looping through all images\n",
      "Looping through all images\n",
      "Looping through all images\n",
      "Looping through all images\n",
      "Looping through all images\n",
      "Looping through all images\n",
      "Looping through all images\n",
      "Looping through all images\n",
      "Looping through all images\n",
      "Looping through all images\n",
      "Looping through all images\n",
      "Looping through all images\n",
      "Looping through all images\n",
      "Looping through all images\n",
      "Looping through all images\n",
      "Looping through all images\n",
      "Looping through all images\n",
      "Looping through all images\n",
      "Looping through all images\n",
      "Looping through all images\n",
      "Looping through all images\n",
      "Looping through all images\n",
      "Looping through all images\n",
      "Looping through all images\n",
      "Looping through all images\n",
      "Looping through all images\n",
      "Looping through all images\n",
      "Looping through all images\n",
      "Looping through all images\n",
      "Looping through all images\n",
      "Looping through all images\n",
      "Looping through all images\n",
      "Looping through all images\n",
      "Looping through all images\n",
      "Looping through all images\n",
      "Looping through all images\n",
      "Looping through all images\n",
      "Looping through all images\n",
      "Looping through all images\n",
      "Looping through all images\n",
      "Looping through all images\n",
      "Looping through all images\n",
      "Looping through all images\n",
      "Looping through all images\n",
      "Looping through all images\n",
      "Looping through all images\n",
      "Looping through all images\n",
      "Looping through all images\n",
      "Looping through all images\n",
      "Looping through all images\n",
      "Looping through all images\n",
      "Looping through all images\n",
      "Looping through all images\n",
      "Looping through all images\n",
      "Looping through all images\n",
      "Looping through all images\n",
      "Looping through all images\n",
      "Looping through all images\n",
      "Looping through all images\n",
      "Looping through all images\n",
      "Looping through all images\n",
      "Looping through all images\n",
      "Looping through all images\n",
      "Looping through all images\n",
      "Looping through all images\n",
      "Looping through all images\n",
      "Looping through all images\n",
      "Looping through all images\n",
      "Looping through all images\n",
      "Looping through all images\n",
      "Looping through all images\n",
      "Looping through all images\n",
      "Looping through all images\n",
      "Looping through all images\n",
      "Looping through all images\n",
      "Looping through all images\n",
      "Looping through all images\n",
      "Looping through all images\n",
      "Looping through all images\n",
      "Looping through all images\n",
      "Looping through all images\n",
      "Looping through all images\n",
      "Looping through all images\n",
      "Looping through all images\n",
      "Looping through all images\n",
      "Looping through all images\n",
      "Looping through all images\n",
      "Looping through all images\n",
      "Looping through all images\n",
      "Looping through all images\n",
      "Looping through all images\n",
      "Looping through all images\n",
      "Looping through all images\n",
      "Looping through all images\n",
      "Looping through all images\n",
      "Looping through all images\n",
      "Looping through all images\n",
      "Looping through all images\n",
      "Looping through all images\n",
      "Looping through all images\n",
      "Looping through all images\n",
      "Looping through all images\n",
      "Looping through all images\n",
      "Looping through all images\n",
      "Looping through all images\n",
      "Looping through all images\n",
      "Looping through all images\n",
      "Looping through all images\n",
      "Looping through all images\n",
      "Looping through all images\n",
      "Looping through all images\n",
      "Looping through all images\n",
      "Looping through all images\n",
      "Looping through all images\n",
      "Looping through all images\n",
      "Looping through all images\n",
      "Looping through all images\n",
      "Looping through all images\n",
      "Looping through all images\n",
      "Looping through all images\n",
      "Looping through all images\n",
      "Looping through all images\n",
      "Looping through all images\n",
      "Looping through all images\n",
      "Looping through all images\n",
      "Looping through all images\n",
      "Looping through all images\n",
      "Looping through all images\n",
      "Looping through all images\n",
      "Looping through all images\n",
      "Looping through all images\n",
      "Looping through all images\n",
      "Looping through all images\n",
      "Looping through all images\n",
      "Looping through all images\n",
      "Looping through all images\n",
      "Looping through all images\n",
      "Looping through all images\n",
      "Looping through all images\n",
      "Looping through all images\n",
      "Looping through all images\n",
      "Looping through all images\n",
      "Looping through all images\n",
      "Looping through all images\n",
      "Looping through all images\n",
      "Looping through all images\n",
      "Looping through all images\n",
      "Looping through all images\n",
      "Looping through all images\n",
      "Looping through all images\n",
      "Looping through all images\n",
      "Looping through all images\n",
      "Looping through all images\n",
      "Looping through all images\n",
      "Looping through all images\n",
      "Looping through all images\n",
      "Looping through all images\n",
      "Looping through all images\n",
      "Looping through all images\n",
      "Looping through all images\n",
      "Looping through all images\n",
      "Looping through all images\n",
      "Looping through all images\n",
      "Looping through all images\n",
      "Looping through all images\n",
      "Looping through all images\n",
      "Looping through all images\n",
      "Looping through all images\n",
      "Looping through all images\n",
      "Looping through all images\n",
      "Looping through all images\n",
      "Looping through all images\n",
      "Looping through all images\n",
      "Looping through all images\n",
      "Looping through all images\n"
     ]
    }
   ],
   "source": [
    "[advertisement, Y_advertisement] = transformer.get_images_labels(list(data_path.glob(\"invoice/*.*\")), 0)"
   ]
  },
  {
   "cell_type": "code",
   "execution_count": 28,
   "metadata": {},
   "outputs": [
    {
     "data": {
      "text/plain": [
       "275"
      ]
     },
     "execution_count": 28,
     "metadata": {},
     "output_type": "execute_result"
    }
   ],
   "source": [
    "len(advertisement)"
   ]
  },
  {
   "cell_type": "code",
   "execution_count": 30,
   "metadata": {},
   "outputs": [
    {
     "data": {
      "text/plain": [
       "(4, 48, 48)"
      ]
     },
     "execution_count": 30,
     "metadata": {},
     "output_type": "execute_result"
    }
   ],
   "source": [
    "advertisement[0].shape"
   ]
  },
  {
   "cell_type": "code",
   "execution_count": 32,
   "metadata": {},
   "outputs": [
    {
     "data": {
      "text/plain": [
       "0"
      ]
     },
     "execution_count": 32,
     "metadata": {},
     "output_type": "execute_result"
    }
   ],
   "source": [
    "Y_advertisement[0]"
   ]
  },
  {
   "cell_type": "code",
   "execution_count": 25,
   "metadata": {},
   "outputs": [
    {
     "name": "stdout",
     "output_type": "stream",
     "text": [
      "['0060046962.jpg', '0060051594.jpg', '0060075043.jpg', '0060080760.jpg', '0060082098.jpg', '0060083495.jpg', '0060095587.jpg', '0060095589.jpg', '0060116328.jpg', '0060121960.jpg', '0060201834.jpg', '0060207574.jpg', '0060281129.jpg', '0060284223.jpg', '00621985.jpg', '00920638.jpg', '00920717.jpg', '01145176.jpg', '01398469.jpg', '03638969.jpg', '03660266.jpg', '03700650.jpg', '03724966.jpg', '03750991.jpg', '1000031431.jpg', '10399076.jpg', '10399232.jpg', '11235021_11235022.jpg', '11238840.jpg', '2001205675.jpg', '2001207806_2001207807.jpg', '2001207874.jpg', '2015066906.jpg', '2021636830.jpg', '2023186187.jpg', '2023322384.jpg', '2023550756.jpg', '2023921600.jpg', '2024525606.jpg', '2024525914.jpg', '2025847098.jpg', '2026004159.jpg', '2026486780.jpg', '2026486823.jpg', '2028691757.jpg', '2028691805_2028691806.jpg', '2028694058.jpg', '2028697984.jpg', '2028699251.jpg', '2028704073.jpg', '2028705019.jpg', '2028706274.jpg', '2028706570.jpg', '2028707266.jpg', '2028707700.jpg', '2028708390.jpg', '2028708554.jpg', '2028710092.jpg', '2028712208.jpg', '2028716484.jpg', '2028716668.jpg', '2028717388.jpg', '2028718888.jpg', '2028719456.jpg', '2028719939_2028719940.jpg', '2028721083.jpg', '2028722501.jpg', '2028724070.jpg', '2028724447.jpg', '2028725808.jpg', '2028726558.jpg', '2028727366.jpg', '2028728093.jpg', '2028729611.jpg', '2028729939.jpg', '2028741327_2028741328.jpg', '2028741476.jpg', '2028743452_2028743453.jpg', '2028747402_2028747403.jpg', '2029194963.jpg', '2029370141.jpg', '2029370154.jpg', '2029370462.jpg', '2029377237.jpg', '2029378210.jpg', '2030138144.jpg', '2030403783.jpg', '2041158058.jpg', '2041619314.jpg', '2042757520.jpg', '2044696250.jpg', '2045150408.jpg', '2048163101.jpg', '2048373725.jpg', '2049431637.jpg', '2049433368.jpg', '2061832122.jpg', '2062173086.jpg', '2062897991.jpg', '2063113437.jpg', '2063162451_2452.jpg', '2063170427.jpg', '2063178328.jpg', '2063216949.jpg', '2063300411.jpg', '2063321228.jpg', '2063321345.jpg', '2063576912.jpg', '2063608519.jpg', '2063610066.jpg', '2063780011.jpg', '2071030591.jpg', '2071533746.jpg', '2072484129.jpg', '2072653060.jpg', '2072957896.jpg', '2072958016_8017.jpg', '2073071216.jpg', '2074104178.jpg', '2074104267.jpg', '2074104343.jpg', '2076999610_9611.jpg', '2077990205.jpg', '2080143458.jpg', '2084020004.jpg', '2084020048.jpg', '2084020226.jpg', '2084021794.jpg', '2084022132.jpg', '2084022189.jpg', '2084022308.jpg', '2084022332.jpg', '2084022751.jpg', '2084022815.jpg', '2084024647.jpg', '2084024865.jpg', '2084061020.jpg', '2084061095.jpg', '2084061297.jpg', '2084342625.jpg', '2085669419.jpg', '2501226749.jpg', '2501335075.jpg', '2501374034_2501374035.jpg', '2505153109.jpg', '2505407626.jpg', '2505414281.jpg', '500234640+-4640.jpg', '500234675+-4675.jpg', '50120566-0566.jpg', '501703529+-3529.jpg', '501961404.jpg', '502197661.jpg', '505850844.jpg', '506023794_506023798.jpg', '506271023.jpg', '509592495_509592499.jpg', '511349392+-9392.jpg', '511505606+-5608.jpg', '513168276_513168277.jpg', '513261894_513261895.jpg', '518027475_518027477.jpg', '518029936.jpg', '518255073+-5074.jpg', '518279202+-9206.jpg', '518434787+-4793.jpg', '518658731+-8731.jpg', '520761472+-1478.jpg', '522896255+-6258.jpg', '524425631+-5636.jpg', '530003729+-3730.jpg', '80211531.jpg', '80211559.jpg', '80233761.jpg', '80233857.jpg', '80701185.jpg', '80702018.jpg', '80703441.jpg', '80703850.jpg', '80704008.jpg', '80721675.jpg', '82894853.jpg', '83093314.jpg', '83553535_3536.jpg', '83553602_3608.jpg', '85701956.jpg', '86453264.jpg', '86462730.jpg', '86462778.jpg', '86618993.jpg', '87052618.jpg', '87064415.jpg', '87064443-a_87064443.jpg', '87064464.jpg', '87064937.jpg', '87065276.jpg', '87066913.jpg', '87103978.jpg', '87104373.jpg', '87148930_87148933.jpg', '87149523_87149526.jpg', '87683565.jpg', '88131587.jpg', '88131634.jpg', '88131701.jpg', '88131802.jpg', '88132141.jpg', '88266768a.jpg', '89000187.jpg', '89000431.jpg', '89000786.jpg', '89000889.jpg', '89001134.jpg', '89001193.jpg', '89001376.jpg', '89001625.jpg', '89001738.jpg', '91505705.jpg', '91506390_6391.jpg', '91507140.jpg', '91507253.jpg', '91514421.jpg', '91515217.jpg', '91515307.jpg', '91515363.jpg', '91575143.jpg', '91658313.jpg', '91659229.jpg', '91661681.jpg', '91664823.jpg', '91810227.jpg', '91814706.jpg', '92224513.jpg', '92226198.jpg', '92227544_7545.jpg', '92242531.jpg', '92248313.jpg', '92678319.jpg', '92679791.jpg', '92857175.jpg', '92871560.jpg', '93121403.jpg', '93216911.jpg', '93413375.jpg', '93416592.jpg', '94389950.jpg', '94416171.jpg', '95602385.jpg', '95602471.jpg', '95824354.jpg', '95824480.jpg', '95824806.jpg', '95824822.jpg', '95824834.jpg', '96054429.jpg', '96057185.jpg', '96433725.jpg', '98776481.jpg', 'CTRCONTRACTS001598-1.jpg', 'CTRCONTRACTS009895-9.jpg', 'CTRCONTRACTS010472-0.jpg', 'CTRCONTRACTS022507-2.jpg', 'CTRCONTRACTS024759-4.jpg', 'CTRSP-FILES009859-98.jpg', 'ti08670559.jpg', 'ti10161552.jpg', 'ti10161636.jpg', 'ti16310446.jpg', 'ti16310591.jpg', 'ti16310868.jpg', 'ti16352085.jpg', 'ti17120055.jpg', 'ti17120567.jpg', 'ti31689101.jpg', 'tob04705.73_tob04705.76.jpg']\n"
     ]
    }
   ],
   "source": []
  },
  {
   "cell_type": "code",
   "execution_count": 1,
   "metadata": {},
   "outputs": [],
   "source": [
    "img_path = r\"data\\test\\invoice\\00920638.jpg\"\n",
    "\n",
    "from src.pipeline.prediction_pipeline import PredictionPipeline"
   ]
  },
  {
   "cell_type": "code",
   "execution_count": 2,
   "metadata": {},
   "outputs": [],
   "source": [
    "pipeline = PredictionPipeline()"
   ]
  },
  {
   "cell_type": "code",
   "execution_count": 4,
   "metadata": {},
   "outputs": [
    {
     "name": "stderr",
     "output_type": "stream",
     "text": [
      "WARNING:absl:Compiled the loaded model, but the compiled metrics have yet to be built. `model.compile_metrics` will be empty until you train or evaluate the model.\n"
     ]
    },
    {
     "name": "stdout",
     "output_type": "stream",
     "text": [
      "Exception encountered when calling Sequential.call().\n",
      "\n",
      "\u001b[1mInvalid input shape for input Tensor(\"data:0\", shape=(4, 48, 48), dtype=float32). Expected shape (None, 4, 48, 48, 1), but input has incompatible shape (4, 48, 48)\u001b[0m\n",
      "\n",
      "Arguments received by Sequential.call():\n",
      "  • inputs=tf.Tensor(shape=(4, 48, 48), dtype=float32)\n",
      "  • training=False\n",
      "  • mask=None\n"
     ]
    }
   ],
   "source": [
    "result = pipeline.run_pipeline(img=img_path)"
   ]
  },
  {
   "cell_type": "code",
   "execution_count": 60,
   "metadata": {},
   "outputs": [],
   "source": [
    "def predict(img):\n",
    "        try:\n",
    "            model = tf.keras.models.load_model(r\"output\\model.h5\")\n",
    "            img = cv2.imread(os.path.join(img))\n",
    "            img = cv2.cvtColor(img, cv2.COLOR_BGR2GRAY)\n",
    "            img = cv2.resize(img ,(120,120))\n",
    "            img1 = img[0:30,0:120]/255\n",
    "            img2 = img[30:90, 0:60]/255\n",
    "            img3 = img[30:90, 60:120]/255\n",
    "            img4 = img[90:120, 0:120]/255\n",
    "\n",
    "            img = np.array(\n",
    "                    [cv2.resize(img1,(48,48)),\n",
    "                    cv2.resize(img2,(48,48)),\n",
    "                    cv2.resize(img3,(48,48)),\n",
    "                    cv2.resize(img4,(48,48))]\n",
    "                )\n",
    "            # print(img)\n",
    "\n",
    "            img_mean = np.mean(img)\n",
    "            img = img - img_mean\n",
    "            img = img /np.std(img)\n",
    "            image = np.asarray(img)\n",
    "            # print(image.shape)\n",
    "            image = np.expand_dims(image, axis=-1)\n",
    "            image = np.expand_dims(image, axis=0)\n",
    "            print(image.shape)\n",
    "            pred = model.predict(image)\n",
    "            return pred\n",
    "        \n",
    "        except Exception as e:\n",
    "            print(e)\n",
    "            return None"
   ]
  },
  {
   "cell_type": "code",
   "execution_count": 58,
   "metadata": {},
   "outputs": [],
   "source": [
    "import tensorflow as tf\n",
    "import cv2\n",
    "import os\n",
    "import numpy  as np\n"
   ]
  },
  {
   "cell_type": "code",
   "execution_count": 61,
   "metadata": {},
   "outputs": [
    {
     "name": "stderr",
     "output_type": "stream",
     "text": [
      "WARNING:absl:Compiled the loaded model, but the compiled metrics have yet to be built. `model.compile_metrics` will be empty until you train or evaluate the model.\n"
     ]
    },
    {
     "name": "stdout",
     "output_type": "stream",
     "text": [
      "(1, 4, 48, 48, 1)\n",
      "\u001b[1m1/1\u001b[0m \u001b[32m━━━━━━━━━━━━━━━━━━━━\u001b[0m\u001b[37m\u001b[0m \u001b[1m0s\u001b[0m 343ms/step\n"
     ]
    }
   ],
   "source": [
    "reposne = predict(img=img_path)"
   ]
  },
  {
   "cell_type": "code",
   "execution_count": 62,
   "metadata": {},
   "outputs": [
    {
     "data": {
      "text/plain": [
       "array([[9.992461e-01, 2.306239e-04, 5.233443e-04]], dtype=float32)"
      ]
     },
     "execution_count": 62,
     "metadata": {},
     "output_type": "execute_result"
    }
   ],
   "source": [
    "reposne"
   ]
  },
  {
   "cell_type": "code",
   "execution_count": 65,
   "metadata": {},
   "outputs": [],
   "source": [
    "predicted_class = np.argmax(reposne)"
   ]
  },
  {
   "cell_type": "code",
   "execution_count": 66,
   "metadata": {},
   "outputs": [
    {
     "data": {
      "text/plain": [
       "np.int64(0)"
      ]
     },
     "execution_count": 66,
     "metadata": {},
     "output_type": "execute_result"
    }
   ],
   "source": [
    "predicted_class"
   ]
  },
  {
   "cell_type": "code",
   "execution_count": 67,
   "metadata": {},
   "outputs": [],
   "source": [
    "from src.pipeline.extraction_pipeline import DataExtractionPipeline"
   ]
  },
  {
   "cell_type": "code",
   "execution_count": 72,
   "metadata": {},
   "outputs": [],
   "source": [
    "extract_pipeline = DataExtractionPipeline(img_path)"
   ]
  },
  {
   "cell_type": "code",
   "execution_count": 73,
   "metadata": {},
   "outputs": [
    {
     "name": "stdout",
     "output_type": "stream",
     "text": [
      "Extracted Data: BORRISTON\n",
      "\n",
      "LABORATORIES, INC.\n",
      "\n",
      "Boriston Laboratories, ne:\n",
      "$050 Beech Place\n",
      "Ternple Hills, Maryland 20748\n",
      "\n",
      "‘Telephone: 301-099:3536\n",
      "843\n",
      "\n",
      "Telex 2\n",
      "\n",
      "June 28, 1982\n",
      "\n",
      "Loriitard Inc.\n",
      "\n",
      "eae INVOICE # ee\n",
      "\n",
      "420 English Street of z\n",
      "Greensboro, N.C. 27405 J-A- Fa\n",
      "fap 9570\n",
      "Attention: Or. Harry Ntnneneyer “\n",
      "feet. +\n",
      "\n",
      "REFERENCE: Purchase on 1saBY\n",
      "BL REF 223-201-144\n",
      "INVOICE #: 1446-1\n",
      "\n",
      "DESCRIPTION 290)\n",
      "\n",
      "INDUCTION OF HEPATIC MICROSOMAL\n",
      "ENZYMES WITH COMPOUNDS B~100,\n",
      "\n",
      "$10,000.00,\n",
      "\n",
      "B-101, and B-102\n",
      "\n",
      "REMITTANCE ADRESS:\n",
      "Borriston Laboratories, Inc.\n",
      "DYNAMAC BUILDING\n",
      "\n",
      "11140 Rockville Pike\n",
      "Rockville, Md. 20748\n",
      "\n",
      "Attn: B. Belford\n",
      "Accounting\n",
      "\n",
      "ses © INVOICE te\n",
      "\n",
      "‘A Subsidiary of Dynamac Intemational, Inc.\n",
      "\n",
      "e£90z600\n",
      "\n",
      "Cleaned Data: BORRISTON LABORATORIES, INC. Boriston Laboratories, ne: $050 Beech Place Ternple Hills, Maryland 20748 ‘Telephone: 301-099:3536 843 Telex 2 June 28, 1982 Loriitard Inc. eae INVOICE # ee 420 English Street of z Greensboro, N.C. 27405 J-A- Fa fap 9570 Attention: Or. Harry Ntnneneyer “ feet. + REFERENCE: Purchase on 1saBY BL REF 223-201-144 INVOICE #: 1446-1 DESCRIPTION 290) INDUCTION OF HEPATIC MICROSOMAL ENZYMES WITH COMPOUNDS B~100, $10,000.00, B-101, and B-102 REMITTANCE ADRESS: Borriston Laboratories, Inc. DYNAMAC BUILDING 11140 Rockville Pike Rockville, Md. 20748 Attn: B. Belford Accounting ses © INVOICE te ‘A Subsidiary of Dynamac Intemational, Inc. e£90z600\n"
     ]
    }
   ],
   "source": [
    "resposne = extract_pipeline.run_pipeline()"
   ]
  },
  {
   "cell_type": "code",
   "execution_count": 74,
   "metadata": {},
   "outputs": [],
   "source": [
    "image = cv2.imread(img_path)"
   ]
  },
  {
   "cell_type": "code",
   "execution_count": 76,
   "metadata": {},
   "outputs": [],
   "source": [
    "extract_pipeline = DataExtractionPipeline(image)"
   ]
  },
  {
   "cell_type": "code",
   "execution_count": 77,
   "metadata": {},
   "outputs": [
    {
     "name": "stdout",
     "output_type": "stream",
     "text": [
      "OpenCV(4.11.0) :-1: error: (-5:Bad argument) in function 'imread'\n",
      "> Overload resolution failed:\n",
      ">  - Expected 'filename' to be a str or path-like object\n",
      ">  - Expected 'filename' to be a str or path-like object\n",
      ">  - Expected 'filename' to be a str or path-like object\n",
      "\n",
      "'NoneType' object has no attribute 'replace'\n"
     ]
    },
    {
     "data": {
      "text/plain": [
       "'{}\\n'"
      ]
     },
     "execution_count": 77,
     "metadata": {},
     "output_type": "execute_result"
    }
   ],
   "source": [
    "extract_pipeline.run_pipeline()"
   ]
  },
  {
   "cell_type": "code",
   "execution_count": null,
   "metadata": {},
   "outputs": [],
   "source": []
  }
 ],
 "metadata": {
  "kernelspec": {
   "display_name": "venv",
   "language": "python",
   "name": "python3"
  },
  "language_info": {
   "codemirror_mode": {
    "name": "ipython",
    "version": 3
   },
   "file_extension": ".py",
   "mimetype": "text/x-python",
   "name": "python",
   "nbconvert_exporter": "python",
   "pygments_lexer": "ipython3",
   "version": "3.12.6"
  }
 },
 "nbformat": 4,
 "nbformat_minor": 2
}
